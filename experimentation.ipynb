{
 "cells": [
  {
   "cell_type": "code",
   "execution_count": 1,
   "metadata": {},
   "outputs": [],
   "source": [
    "import numpy as np\n",
    "\n",
    "from network import Network\n",
    "from perceptron_layer import PerceptronLayer"
   ]
  },
  {
   "cell_type": "code",
   "execution_count": 2,
   "metadata": {},
   "outputs": [],
   "source": [
    "# Iris dataset\n",
    "from sklearn import datasets\n",
    "\n",
    "iris = datasets.load_iris()\n",
    "x = iris.data[:, :]\n",
    "\n",
    "y =  np.array([iris.target == 0], dtype=int)\n",
    "y = np.append(y, np.array([iris.target == 1], dtype=int), axis=0)\n",
    "y = np.append(y, np.array([iris.target == 2], dtype=int), axis=0)\n",
    "y = y.T"
   ]
  },
  {
   "cell_type": "code",
   "execution_count": 3,
   "metadata": {},
   "outputs": [
    {
     "name": "stdout",
     "output_type": "stream",
     "text": [
      "Epoch [1|20]:\n",
      "  Loss: 0.1315252241113087\n",
      "Epoch [2|20]:\n",
      "  Loss: 0.09561054285260852\n",
      "Epoch [3|20]:\n",
      "  Loss: 0.09638485337519012\n",
      "Epoch [4|20]:\n",
      "  Loss: 0.09505331153130986\n",
      "Epoch [5|20]:\n",
      "  Loss: 0.08989484238211423\n",
      "Epoch [6|20]:\n",
      "  Loss: 0.08338034977507526\n",
      "Epoch [7|20]:\n",
      "  Loss: 0.07723114880550189\n",
      "Epoch [8|20]:\n",
      "  Loss: 0.07308732389404854\n",
      "Epoch [9|20]:\n",
      "  Loss: 0.06959505222832688\n",
      "Epoch [10|20]:\n",
      "  Loss: 0.06965557364212464\n",
      "Epoch [11|20]:\n",
      "  Loss: 0.06865996541594714\n",
      "Epoch [12|20]:\n",
      "  Loss: 0.06904352488956404\n",
      "Epoch [13|20]:\n",
      "  Loss: 0.06576909795125827\n",
      "Epoch [14|20]:\n",
      "  Loss: 0.06557851027470189\n",
      "Epoch [15|20]:\n",
      "  Loss: 0.07172781065616105\n",
      "Epoch [16|20]:\n",
      "  Loss: 0.07087608715702379\n",
      "Epoch [17|20]:\n",
      "  Loss: 0.05845936456097616\n",
      "Epoch [18|20]:\n",
      "  Loss: 0.09470343908179683\n",
      "Epoch [19|20]:\n",
      "  Loss: 0.051142112331660355\n",
      "Epoch [20|20]:\n",
      "  Loss: 0.10056203549889615\n"
     ]
    }
   ],
   "source": [
    "# Network Implementation\n",
    "net = Network(\n",
    "    [\n",
    "    PerceptronLayer(4, 4, activation_function='sigmoid'),\n",
    "    PerceptronLayer(4, 2, activation_function='sigmoid'),\n",
    "    PerceptronLayer(2, 3, activation_function='sigmoid')\n",
    "    ],\n",
    "    loss_function='quadratic'\n",
    ")\n",
    "\n",
    "train_loss = net.fit(x, y, learning_rate=0.5, epochs=20)\n"
   ]
  },
  {
   "cell_type": "code",
   "execution_count": 4,
   "metadata": {},
   "outputs": [
    {
     "data": {
      "text/plain": [
       "0.07989700852077972"
      ]
     },
     "execution_count": 4,
     "metadata": {},
     "output_type": "execute_result"
    }
   ],
   "source": [
    "train_loss"
   ]
  },
  {
   "cell_type": "code",
   "execution_count": null,
   "metadata": {},
   "outputs": [],
   "source": []
  }
 ],
 "metadata": {
  "kernelspec": {
   "display_name": "Python 3.9.11 ('ml_env')",
   "language": "python",
   "name": "python3"
  },
  "language_info": {
   "codemirror_mode": {
    "name": "ipython",
    "version": 3
   },
   "file_extension": ".py",
   "mimetype": "text/x-python",
   "name": "python",
   "nbconvert_exporter": "python",
   "pygments_lexer": "ipython3",
   "version": "3.9.11"
  },
  "orig_nbformat": 4,
  "vscode": {
   "interpreter": {
    "hash": "c5adb9b23f0db5198ad49ebc7528f71124eca3166c02a87711bfeed9aa94960d"
   }
  }
 },
 "nbformat": 4,
 "nbformat_minor": 2
}
