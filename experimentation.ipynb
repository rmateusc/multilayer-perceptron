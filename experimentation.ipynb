{
 "cells": [
  {
   "cell_type": "code",
   "execution_count": 1,
   "metadata": {},
   "outputs": [],
   "source": [
    "import numpy as np\n",
    "\n",
    "from network import Network\n",
    "from perceptron_layer import PerceptronLayer"
   ]
  },
  {
   "cell_type": "code",
   "execution_count": 2,
   "metadata": {},
   "outputs": [],
   "source": [
    "# Iris dataset\n",
    "from sklearn import datasets\n",
    "\n",
    "iris = datasets.load_iris()\n",
    "x = iris.data[:, :]\n",
    "\n",
    "y =  np.array([iris.target == 0], dtype=int)\n",
    "y = np.append(y, np.array([iris.target == 1], dtype=int), axis=0)\n",
    "y = np.append(y, np.array([iris.target == 2], dtype=int), axis=0)\n",
    "y = y.T"
   ]
  },
  {
   "cell_type": "code",
   "execution_count": 3,
   "metadata": {},
   "outputs": [
    {
     "name": "stdout",
     "output_type": "stream",
     "text": [
      "Epoch [1|20]:\n",
      "  Loss: 0.15545030579012753\n",
      "Epoch [2|20]:\n",
      "  Loss: 0.10637941390816949\n",
      "Epoch [3|20]:\n",
      "  Loss: 0.10409953973696988\n",
      "Epoch [4|20]:\n",
      "  Loss: 0.09873941871298259\n",
      "Epoch [5|20]:\n",
      "  Loss: 0.09184652691986794\n",
      "Epoch [6|20]:\n",
      "  Loss: 0.08851310389285418\n",
      "Epoch [7|20]:\n",
      "  Loss: 0.08687030922911954\n",
      "Epoch [8|20]:\n",
      "  Loss: 0.0859181521905832\n",
      "Epoch [9|20]:\n",
      "  Loss: 0.08529469685610853\n",
      "Epoch [10|20]:\n",
      "  Loss: 0.08484552842629076\n",
      "Epoch [11|20]:\n",
      "  Loss: 0.08450367742883212\n",
      "Epoch [12|20]:\n",
      "  Loss: 0.08423864516909053\n",
      "Epoch [13|20]:\n",
      "  Loss: 0.0840256390750376\n",
      "Epoch [14|20]:\n",
      "  Loss: 0.08383142089931828\n",
      "Epoch [15|20]:\n",
      "  Loss: 0.08320250266866494\n",
      "Epoch [16|20]:\n",
      "  Loss: 0.07633388883703168\n",
      "Epoch [17|20]:\n",
      "  Loss: 0.06232864463718266\n",
      "Epoch [18|20]:\n",
      "  Loss: 0.05893397645961227\n",
      "Epoch [19|20]:\n",
      "  Loss: 0.056187356906811856\n",
      "Epoch [20|20]:\n",
      "  Loss: 0.053997596402340045\n"
     ]
    }
   ],
   "source": [
    "# Network Implementation\n",
    "net = Network(\n",
    "    [\n",
    "    PerceptronLayer(4, 4, activation_function='sigmoid'),\n",
    "    PerceptronLayer(4, 2, activation_function='sigmoid'),\n",
    "    PerceptronLayer(2, 3, activation_function='sigmoid')\n",
    "    ],\n",
    "    loss_function='quadratic'\n",
    ")\n",
    "\n",
    "net.fit(x, y, learning_rate=0.5, epochs=20)\n"
   ]
  },
  {
   "cell_type": "code",
   "execution_count": null,
   "metadata": {},
   "outputs": [],
   "source": []
  }
 ],
 "metadata": {
  "kernelspec": {
   "display_name": "Python 3.9.11 ('ml_env')",
   "language": "python",
   "name": "python3"
  },
  "language_info": {
   "codemirror_mode": {
    "name": "ipython",
    "version": 3
   },
   "file_extension": ".py",
   "mimetype": "text/x-python",
   "name": "python",
   "nbconvert_exporter": "python",
   "pygments_lexer": "ipython3",
   "version": "3.9.11"
  },
  "orig_nbformat": 4,
  "vscode": {
   "interpreter": {
    "hash": "c5adb9b23f0db5198ad49ebc7528f71124eca3166c02a87711bfeed9aa94960d"
   }
  }
 },
 "nbformat": 4,
 "nbformat_minor": 2
}
