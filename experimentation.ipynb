{
 "cells": [
  {
   "cell_type": "code",
   "execution_count": 12,
   "metadata": {},
   "outputs": [],
   "source": [
    "import numpy as np\n",
    "\n",
    "from network import Network\n",
    "from perceptron_layer import PerceptronLayer\n",
    "from activation_layer import ActivationLayer\n",
    "from activation_functions import sigmoid, sigmoid_derivative\n",
    "from loss_functions import mean_squared_error, mean_squared_error_derivative"
   ]
  },
  {
   "cell_type": "code",
   "execution_count": 13,
   "metadata": {},
   "outputs": [],
   "source": [
    "# AND data\n",
    "X = np.array([[0, 0], [0, 1], [1, 0], [1, 1]])\n",
    "Y = np.array([[0, 0, 0, 1]])"
   ]
  },
  {
   "cell_type": "code",
   "execution_count": 14,
   "metadata": {},
   "outputs": [
    {
     "data": {
      "text/plain": [
       "(4, 2)"
      ]
     },
     "execution_count": 14,
     "metadata": {},
     "output_type": "execute_result"
    }
   ],
   "source": [
    "X.shape"
   ]
  },
  {
   "cell_type": "code",
   "execution_count": null,
   "metadata": {},
   "outputs": [],
   "source": [
    "# Network Implementation\n",
    "net = Network()\n",
    "net.add(PerceptronLayer(X.shape[1], X.shape[1]))\n",
    "net.add(ActivationLayer(sigmoid, sigmoid_derivative))\n",
    "net.add(PerceptronLayer(2, 1))\n",
    "net.add(ActivationLayer(sigmoid, sigmoid_derivative))\n",
    "\n",
    "net.fit(X, Y, learning_rate=0.5, epochs=1000)\n",
    "\n",
    "out = net.predict(X)\n",
    "print(out)"
   ]
  },
  {
   "cell_type": "code",
   "execution_count": null,
   "metadata": {},
   "outputs": [],
   "source": [
    "# Network Implementation\n",
    "net = Network(\n",
    "    [\n",
    "    PerceptronLayer(X.shape[1], X.shape[1], activation='sigmoid'),\n",
    "    PerceptronLayer(2, 1, activation='sigmoid'),\n",
    "    PerceptronLayer(1, 1, activation='sigmoid')\n",
    "    ],\n",
    "    loss_function=mean_squared_error,\n",
    ")\n",
    "\n",
    "net.fit(X, Y, learning_rate=0.5, epochs=1000)\n",
    "\n",
    "out = net.predict(X)\n",
    "print(out)"
   ]
  }
 ],
 "metadata": {
  "kernelspec": {
   "display_name": "Python 3.9.11 ('ml_env')",
   "language": "python",
   "name": "python3"
  },
  "language_info": {
   "codemirror_mode": {
    "name": "ipython",
    "version": 3
   },
   "file_extension": ".py",
   "mimetype": "text/x-python",
   "name": "python",
   "nbconvert_exporter": "python",
   "pygments_lexer": "ipython3",
   "version": "3.9.11"
  },
  "orig_nbformat": 4,
  "vscode": {
   "interpreter": {
    "hash": "c5adb9b23f0db5198ad49ebc7528f71124eca3166c02a87711bfeed9aa94960d"
   }
  }
 },
 "nbformat": 4,
 "nbformat_minor": 2
}
