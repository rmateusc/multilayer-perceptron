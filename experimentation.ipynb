{
 "cells": [
  {
   "cell_type": "code",
   "execution_count": 5,
   "metadata": {},
   "outputs": [],
   "source": [
    "import numpy as np\n",
    "\n",
    "from network import Network\n",
    "from perceptron_layer import PerceptronLayer"
   ]
  },
  {
   "cell_type": "code",
   "execution_count": 6,
   "metadata": {},
   "outputs": [],
   "source": [
    "# Iris dataset\n",
    "from sklearn import datasets\n",
    "\n",
    "iris = datasets.load_iris()\n",
    "x = iris.data[:, :]\n",
    "\n",
    "y =  np.array([iris.target == 0], dtype=int)\n",
    "y = np.append(y, np.array([iris.target == 1], dtype=int), axis=0)\n",
    "y = np.append(y, np.array([iris.target == 2], dtype=int), axis=0)\n",
    "y = y.T"
   ]
  },
  {
   "cell_type": "code",
   "execution_count": 7,
   "metadata": {},
   "outputs": [
    {
     "name": "stdout",
     "output_type": "stream",
     "text": [
      "Epoch [1|20]:\n",
      "  Loss: 0.07959063375897685\n",
      "Epoch [2|20]:\n",
      "  Loss: 0.07533412856782314\n",
      "Epoch [3|20]:\n",
      "  Loss: 0.06198664725792794\n",
      "Epoch [4|20]:\n",
      "  Loss: 0.055309767889191626\n",
      "Epoch [5|20]:\n",
      "  Loss: 0.052699110053059946\n",
      "Epoch [6|20]:\n",
      "  Loss: 0.05119439028824452\n",
      "Epoch [7|20]:\n",
      "  Loss: 0.04976628032662496\n",
      "Epoch [8|20]:\n",
      "  Loss: 0.04818766963212685\n",
      "Epoch [9|20]:\n",
      "  Loss: 0.047454577634761984\n",
      "Epoch [10|20]:\n",
      "  Loss: 0.046477078006496836\n",
      "Epoch [11|20]:\n",
      "  Loss: 0.04555744639350071\n",
      "Epoch [12|20]:\n",
      "  Loss: 0.04471033108613277\n",
      "Epoch [13|20]:\n",
      "  Loss: 0.04374328899806721\n",
      "Epoch [14|20]:\n",
      "  Loss: 0.04259171579422449\n",
      "Epoch [15|20]:\n",
      "  Loss: 0.04128430936737058\n",
      "Epoch [16|20]:\n",
      "  Loss: 0.04003340335089341\n",
      "Epoch [17|20]:\n",
      "  Loss: 0.03904558414388005\n",
      "Epoch [18|20]:\n",
      "  Loss: 0.03832299996488654\n",
      "Epoch [19|20]:\n",
      "  Loss: 0.03774972784897249\n",
      "Epoch [20|20]:\n",
      "  Loss: 0.03724566825247731\n"
     ]
    }
   ],
   "source": [
    "# Network Implementation\n",
    "net = Network(\n",
    "    [\n",
    "    PerceptronLayer(4, 4, activation_function='sigmoid'),\n",
    "    PerceptronLayer(4, 2, activation_function='sigmoid'),\n",
    "    PerceptronLayer(2, 3, activation_function='sigmoid')\n",
    "    ],\n",
    "    loss_function='quadratic'\n",
    ")\n",
    "\n",
    "train_loss = net.fit(x, y, learning_rate=0.5, epochs=20)\n"
   ]
  },
  {
   "cell_type": "code",
   "execution_count": 8,
   "metadata": {},
   "outputs": [
    {
     "data": {
      "text/plain": [
       "0.04891423793078201"
      ]
     },
     "execution_count": 8,
     "metadata": {},
     "output_type": "execute_result"
    }
   ],
   "source": [
    "train_loss"
   ]
  },
  {
   "cell_type": "code",
   "execution_count": null,
   "metadata": {},
   "outputs": [],
   "source": []
  }
 ],
 "metadata": {
  "kernelspec": {
   "display_name": "Python 3.9.11 ('ml_env')",
   "language": "python",
   "name": "python3"
  },
  "language_info": {
   "codemirror_mode": {
    "name": "ipython",
    "version": 3
   },
   "file_extension": ".py",
   "mimetype": "text/x-python",
   "name": "python",
   "nbconvert_exporter": "python",
   "pygments_lexer": "ipython3",
   "version": "3.9.11"
  },
  "orig_nbformat": 4,
  "vscode": {
   "interpreter": {
    "hash": "c5adb9b23f0db5198ad49ebc7528f71124eca3166c02a87711bfeed9aa94960d"
   }
  }
 },
 "nbformat": 4,
 "nbformat_minor": 2
}
